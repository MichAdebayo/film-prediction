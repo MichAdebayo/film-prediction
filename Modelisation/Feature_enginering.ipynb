{
 "cells": [
  {
   "cell_type": "code",
   "execution_count": 39,
   "metadata": {},
   "outputs": [],
   "source": [
    "import pandas as pd\n",
    "import mlflow\n",
    "import mlflow.sklearn\n",
    "import numpy as np\n",
    "from sklearn.model_selection import train_test_split\n",
    "from sklearn.ensemble import RandomForestClassifier  \n",
    "from sklearn.metrics import accuracy_score, precision_score, recall_score, f1_score\n",
    "from datetime import datetime"
   ]
  },
  {
   "cell_type": "code",
   "execution_count": 40,
   "metadata": {},
   "outputs": [],
   "source": [
    "mlflow.set_experiment(\"Film Box Office Prediction\")\n",
    "df = pd.read_csv(\"film_v2.csv\")"
   ]
  },
  {
   "cell_type": "code",
   "execution_count": 41,
   "metadata": {},
   "outputs": [
    {
     "name": "stdout",
     "output_type": "stream",
     "text": [
      "Nombre de lignes où entrees_demarrage_france est vide : 1722\n",
      "Pourcentage de valeurs manquantes : 99.25%\n"
     ]
    }
   ],
   "source": [
    "# Nombre de lignes où la variable cible est vide (NaN)\n",
    "nb_lignes_target_vide = df['entrees_demarrage_france'].isna().sum()\n",
    "print(f\"Nombre de lignes où entrees_demarrage_france est vide : {nb_lignes_target_vide}\")\n",
    "\n",
    "# Pourcentage de valeurs manquantes\n",
    "pourcentage_manquant = (nb_lignes_target_vide / len(df)) * 100\n",
    "print(f\"Pourcentage de valeurs manquantes : {pourcentage_manquant:.2f}%\")"
   ]
  },
  {
   "cell_type": "markdown",
   "metadata": {},
   "source": [
    "Ajout de la variable age_du_film"
   ]
  },
  {
   "cell_type": "code",
   "execution_count": 42,
   "metadata": {},
   "outputs": [
    {
     "name": "stdout",
     "output_type": "stream",
     "text": [
      "                                                titre date_sortie_france  \\\n",
      "0                   L'Extraordinaire Voyage de Marona         2020-01-08   \n",
      "1                         Les Filles du Docteur March         2020-01-01   \n",
      "2   Birds of Prey et la fabuleuse histoire de Harl...         2020-02-05   \n",
      "3                                  Sonic, le hérisson         2020-02-12   \n",
      "4                                           Uncharted         2022-02-16   \n",
      "5                                     Sonic 2 le film         2022-03-30   \n",
      "6                                        Gran Turismo         2023-08-09   \n",
      "7                                         Borderlands         2024-08-07   \n",
      "8                                             Sonic 3         2024-12-25   \n",
      "9                                  Minecraft, Le Film         2025-04-02   \n",
      "10                               Les Nouveaux mutants         2020-08-26   \n",
      "11                                 Black Widow (2021)         2021-07-07   \n",
      "12            Shang-Chi et la Légende des Dix Anneaux         2021-09-01   \n",
      "13                                       Les Eternels         2021-11-03   \n",
      "14                            Spider-Man: No Way Home         2021-12-15   \n",
      "15                                         The Batman         2022-03-02   \n",
      "16        Doctor Strange in the Multiverse of Madness         2022-05-04   \n",
      "17                             Thor: Love And Thunder         2022-07-13   \n",
      "18                                    La Page blanche         2022-08-31   \n",
      "19          Spider-Man : No Way Home - Version longue         2022-09-07   \n",
      "\n",
      "    age_du_film  \n",
      "0             5  \n",
      "1             5  \n",
      "2             5  \n",
      "3             5  \n",
      "4             3  \n",
      "5             3  \n",
      "6             2  \n",
      "7             1  \n",
      "8             1  \n",
      "9             0  \n",
      "10            5  \n",
      "11            4  \n",
      "12            4  \n",
      "13            4  \n",
      "14            4  \n",
      "15            3  \n",
      "16            3  \n",
      "17            3  \n",
      "18            3  \n",
      "19            3  \n"
     ]
    }
   ],
   "source": [
    "reference_date = datetime.now()\n",
    "df['date_sortie_france'] = pd.to_datetime(df['date_sortie_france'], errors='coerce')\n",
    "df['annee_sortie'] = df['date_sortie_france'].dt.year\n",
    "df['age_du_film'] = datetime.now().year - df['annee_sortie']\n",
    "print(df[[ 'titre','date_sortie_france', 'age_du_film']].head(20))\n"
   ]
  },
  {
   "cell_type": "code",
   "execution_count": 43,
   "metadata": {},
   "outputs": [
    {
     "name": "stdout",
     "output_type": "stream",
     "text": [
      "['film_id', 'titre', 'genre_principale', 'date_sortie_france', 'date_sortie_usa', 'image_url', 'synopsis', 'duree', 'note_moyenne', 'acteurs', 'entrees_demarrage_france', 'entrees_totales_france', 'budget', 'recette_usa', 'recette_reste_du_monde', 'recette_monde', 'duree_minutes', 'annee_sortie', 'age_du_film']\n"
     ]
    }
   ],
   "source": [
    "print(df.columns.tolist())"
   ]
  },
  {
   "cell_type": "code",
   "execution_count": 44,
   "metadata": {},
   "outputs": [],
   "source": [
    "df.to_csv('film_v3.csv', index=False)"
   ]
  },
  {
   "cell_type": "code",
   "execution_count": 45,
   "metadata": {},
   "outputs": [
    {
     "name": "stdout",
     "output_type": "stream",
     "text": [
      "1735\n"
     ]
    }
   ],
   "source": [
    "print(df['entrees_demarrage_france'].isna().count())"
   ]
  },
  {
   "cell_type": "code",
   "execution_count": 46,
   "metadata": {},
   "outputs": [
    {
     "name": "stdout",
     "output_type": "stream",
     "text": [
      "film_id                              int64\n",
      "titre                               object\n",
      "genre_principale                    object\n",
      "date_sortie_france          datetime64[ns]\n",
      "date_sortie_usa                     object\n",
      "image_url                           object\n",
      "synopsis                            object\n",
      "duree                               object\n",
      "note_moyenne                        object\n",
      "acteurs                             object\n",
      "entrees_demarrage_france           float64\n",
      "entrees_totales_france             float64\n",
      "budget                             float64\n",
      "recette_usa                        float64\n",
      "recette_reste_du_monde             float64\n",
      "recette_monde                      float64\n",
      "duree_minutes                      float64\n",
      "annee_sortie                         int32\n",
      "age_du_film                          int32\n",
      "dtype: object\n"
     ]
    }
   ],
   "source": [
    "print(df.dtypes)"
   ]
  }
 ],
 "metadata": {
  "kernelspec": {
   "display_name": ".venv",
   "language": "python",
   "name": "python3"
  },
  "language_info": {
   "codemirror_mode": {
    "name": "ipython",
    "version": 3
   },
   "file_extension": ".py",
   "mimetype": "text/x-python",
   "name": "python",
   "nbconvert_exporter": "python",
   "pygments_lexer": "ipython3",
   "version": "3.12.3"
  }
 },
 "nbformat": 4,
 "nbformat_minor": 2
}
