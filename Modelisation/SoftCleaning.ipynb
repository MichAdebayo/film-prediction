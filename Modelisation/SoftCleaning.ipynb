{
 "cells": [
  {
   "cell_type": "code",
   "execution_count": 252,
   "metadata": {},
   "outputs": [],
   "source": [
    "import pandas as pd\n",
    "import mlflow\n",
    "import mlflow.sklearn\n",
    "import numpy as np\n",
    "from sklearn.model_selection import train_test_split\n",
    "from sklearn.ensemble import RandomForestClassifier  # ou un autre modèle selon votre cas\n",
    "from sklearn.metrics import accuracy_score, precision_score, recall_score, f1_score\n",
    "from datetime import datetime\n",
    "\n"
   ]
  },
  {
   "cell_type": "code",
   "execution_count": 253,
   "metadata": {},
   "outputs": [],
   "source": [
    "mlflow.set_experiment(\"Film Box Office Prediction\")\n",
    "df1 = pd.read_csv(\"films.csv\")"
   ]
  },
  {
   "cell_type": "code",
   "execution_count": 254,
   "metadata": {},
   "outputs": [
    {
     "name": "stdout",
     "output_type": "stream",
     "text": [
      "   film_id                                              titre  \\\n",
      "0    20156                  L'Extraordinaire Voyage de Marona   \n",
      "1    19778                        Les Filles du Docteur March   \n",
      "2    18940  Birds of Prey et la fabuleuse histoire de Harl...   \n",
      "3    18815                                 Sonic, le hérisson   \n",
      "4    21042                                          Uncharted   \n",
      "\n",
      "   genre_principale date_sortie_france date_sortie_usa  \\\n",
      "0         Animation         08/01/2020      00/00/0000   \n",
      "1  Adaptation Livre         01/01/2020      25/12/2019   \n",
      "2     Adaptation BD         05/02/2020      07/02/2020   \n",
      "3  Adapt. Jeu Vidéo         12/02/2020      14/02/2020   \n",
      "4  Adapt. Jeu Vidéo         16/02/2022      18/02/2022   \n",
      "\n",
      "                                           image_url  \\\n",
      "0  https://www.jpbox-office.com/cinema/images/pos...   \n",
      "1  https://www.jpbox-office.com/cinema/images/pos...   \n",
      "2  https://www.jpbox-office.com/cinema/images/pos...   \n",
      "3  https://www.jpbox-office.com/cinema/images/pos...   \n",
      "4  https://www.jpbox-office.com/cinema/images/pos...   \n",
      "\n",
      "                                            synopsis     duree  \\\n",
      "0  Victime d’un accident, Marona, une petite chie...  1h 32min   \n",
      "1  Une nouvelle adaptation du classique de Louisa...  2h 15min   \n",
      "2  Vous connaissez l'histoire du flic, de l'oisea...  1h 49min   \n",
      "3  L'histoire du hérisson bleu le plus rapide du ...  1h 40min   \n",
      "4  Nathan Drake, voleur astucieux et intrépide, e...  1h 55min   \n",
      "\n",
      "     note_moyenne                                            acteurs  \\\n",
      "0  Non disponible                                     Non disponible   \n",
      "1               3  Emma Watson (Rôle principal - - Meg March) | T...   \n",
      "2               3  Margot Robbie (Rôle principal - - Harley Quinn...   \n",
      "3               3  Jim Carrey (Rôle principal - - Dr. Ivo Robotni...   \n",
      "4               3  Tom Holland (Rôle principal - - Nathan Drake) ...   \n",
      "\n",
      "  entrees_demarrage_france entrees_totales_france         budget  \\\n",
      "0                   12 065                 37 632             ?    \n",
      "1                  242 663                805 211   40 000 000 $   \n",
      "2                  412 178              1 047 460   84 500 000 $   \n",
      "3                  771 015              2 113 220   95 000 000 $   \n",
      "4                  955 650              2 514 261  120 000 000 $   \n",
      "\n",
      "     recette_usa recette_reste_du_monde  recette_monde  \n",
      "0            - $               41 568 $       41 568 $  \n",
      "1  108 101 214 $           92 100 000 $  200 201 214 $  \n",
      "2   84 158 461 $          117 700 000 $  201 858 461 $  \n",
      "3  146 066 470 $          168 755 633 $  314 822 103 $  \n",
      "4  148 648 820 $          252 041 094 $  400 689 914 $  \n"
     ]
    }
   ],
   "source": [
    "print(df1.head())"
   ]
  },
  {
   "cell_type": "code",
   "execution_count": 255,
   "metadata": {},
   "outputs": [
    {
     "name": "stdout",
     "output_type": "stream",
     "text": [
      "Nombre total de films dans le CSV: 2062\n"
     ]
    }
   ],
   "source": [
    "print(f\"Nombre total de films dans le CSV: {len(df1)}\")"
   ]
  },
  {
   "cell_type": "markdown",
   "metadata": {},
   "source": [
    "Création d un df a part pour les lignes ou la terget est null"
   ]
  },
  {
   "cell_type": "code",
   "execution_count": 256,
   "metadata": {},
   "outputs": [],
   "source": [
    "mask_invalid = df1['entrees_demarrage_france'].isna()\n",
    "invalid_entries = df1[mask_invalid]"
   ]
  },
  {
   "cell_type": "code",
   "execution_count": 257,
   "metadata": {},
   "outputs": [
    {
     "name": "stdout",
     "output_type": "stream",
     "text": [
      "Nombre de lignes où entrees_demarrage_france est vide : 327\n",
      "Pourcentage de valeurs manquantes : 15.86%\n"
     ]
    }
   ],
   "source": [
    "# Nombre de lignes où la variable cible est vide (NaN)\n",
    "nb_lignes_target_vide = df1['entrees_demarrage_france'].isna().sum()\n",
    "print(f\"Nombre de lignes où entrees_demarrage_france est vide : {nb_lignes_target_vide}\")\n",
    "\n",
    "# Pourcentage de valeurs manquantes\n",
    "pourcentage_manquant = (nb_lignes_target_vide / len(df1)) * 100\n",
    "print(f\"Pourcentage de valeurs manquantes : {pourcentage_manquant:.2f}%\")"
   ]
  },
  {
   "cell_type": "code",
   "execution_count": 258,
   "metadata": {},
   "outputs": [
    {
     "name": "stdout",
     "output_type": "stream",
     "text": [
      "\n",
      "Nombre de lignes avec entrées au démarrage manquants: 327 sur 2062\n"
     ]
    }
   ],
   "source": [
    "print(f\"\\nNombre de lignes avec entrées au démarrage manquants: {mask_invalid.sum()} sur {len(df1)}\")"
   ]
  },
  {
   "cell_type": "markdown",
   "metadata": {},
   "source": [
    "Retire les lignées ou la target est null du df"
   ]
  },
  {
   "cell_type": "code",
   "execution_count": 259,
   "metadata": {},
   "outputs": [],
   "source": [
    "df = df1[~mask_invalid]"
   ]
  },
  {
   "cell_type": "code",
   "execution_count": 260,
   "metadata": {},
   "outputs": [
    {
     "name": "stdout",
     "output_type": "stream",
     "text": [
      "Nombre de valeurs manquantes dans la cible après filtrage: 0\n"
     ]
    }
   ],
   "source": [
    "print(f\"Nombre de valeurs manquantes dans la cible après filtrage: {df['entrees_demarrage_france'].isna().sum()}\")"
   ]
  },
  {
   "cell_type": "code",
   "execution_count": 261,
   "metadata": {},
   "outputs": [
    {
     "name": "stdout",
     "output_type": "stream",
     "text": [
      "Nombre total de films dans le CSV: 1735\n"
     ]
    }
   ],
   "source": [
    "print(f\"Nombre total de films dans le CSV: {len(df)}\")"
   ]
  },
  {
   "cell_type": "markdown",
   "metadata": {},
   "source": [
    "Nettoyage des colonnes "
   ]
  },
  {
   "cell_type": "code",
   "execution_count": 262,
   "metadata": {},
   "outputs": [
    {
     "name": "stderr",
     "output_type": "stream",
     "text": [
      "/tmp/ipykernel_174205/2982991002.py:17: SettingWithCopyWarning: \n",
      "A value is trying to be set on a copy of a slice from a DataFrame.\n",
      "Try using .loc[row_indexer,col_indexer] = value instead\n",
      "\n",
      "See the caveats in the documentation: https://pandas.pydata.org/pandas-docs/stable/user_guide/indexing.html#returning-a-view-versus-a-copy\n",
      "  df[col] = df[col].apply(clean_monetary_value)\n"
     ]
    }
   ],
   "source": [
    "def clean_monetary_value(value):\n",
    "    if isinstance(value, str):\n",
    "        \n",
    "        value = value.replace('$', '').replace(' ', '').replace(',', '')\n",
    "        \n",
    "        if value in ['?', '-']:\n",
    "            return np.nan\n",
    "        try:\n",
    "            return float(value)\n",
    "        except ValueError:\n",
    "            return np.nan\n",
    "    return value\n",
    "\n",
    "\n",
    "monetary_columns = ['budget', 'recette_usa', 'recette_reste_du_monde', 'recette_monde']\n",
    "for col in monetary_columns:\n",
    "    df[col] = df[col].apply(clean_monetary_value)\n"
   ]
  },
  {
   "cell_type": "code",
   "execution_count": 263,
   "metadata": {},
   "outputs": [
    {
     "name": "stderr",
     "output_type": "stream",
     "text": [
      "/tmp/ipykernel_174205/3799312698.py:1: SettingWithCopyWarning: \n",
      "A value is trying to be set on a copy of a slice from a DataFrame.\n",
      "Try using .loc[row_indexer,col_indexer] = value instead\n",
      "\n",
      "See the caveats in the documentation: https://pandas.pydata.org/pandas-docs/stable/user_guide/indexing.html#returning-a-view-versus-a-copy\n",
      "  df['entrees_demarrage_france'] = pd.to_numeric(df['entrees_demarrage_france'], errors='coerce')\n",
      "/tmp/ipykernel_174205/3799312698.py:2: SettingWithCopyWarning: \n",
      "A value is trying to be set on a copy of a slice from a DataFrame.\n",
      "Try using .loc[row_indexer,col_indexer] = value instead\n",
      "\n",
      "See the caveats in the documentation: https://pandas.pydata.org/pandas-docs/stable/user_guide/indexing.html#returning-a-view-versus-a-copy\n",
      "  df['entrees_totales_france'] = pd.to_numeric(df['entrees_totales_france'], errors='coerce')\n"
     ]
    }
   ],
   "source": [
    "df['entrees_demarrage_france'] = pd.to_numeric(df['entrees_demarrage_france'], errors='coerce')\n",
    "df['entrees_totales_france'] = pd.to_numeric(df['entrees_totales_france'], errors='coerce')"
   ]
  },
  {
   "cell_type": "markdown",
   "metadata": {},
   "source": [
    "Convertir durée du film en minutes"
   ]
  },
  {
   "cell_type": "code",
   "execution_count": 264,
   "metadata": {},
   "outputs": [
    {
     "name": "stdout",
     "output_type": "stream",
     "text": [
      "0        92.0\n",
      "1       135.0\n",
      "2       109.0\n",
      "3       100.0\n",
      "4       115.0\n",
      "        ...  \n",
      "2053     77.0\n",
      "2056    128.0\n",
      "2057    195.0\n",
      "2059    144.0\n",
      "2061     98.0\n",
      "Name: duree_minutes, Length: 1735, dtype: float64\n"
     ]
    },
    {
     "name": "stderr",
     "output_type": "stream",
     "text": [
      "/tmp/ipykernel_174205/3544832947.py:22: SettingWithCopyWarning: \n",
      "A value is trying to be set on a copy of a slice from a DataFrame.\n",
      "Try using .loc[row_indexer,col_indexer] = value instead\n",
      "\n",
      "See the caveats in the documentation: https://pandas.pydata.org/pandas-docs/stable/user_guide/indexing.html#returning-a-view-versus-a-copy\n",
      "  df['duree_minutes'] = df['duree'].apply(convert_duration_to_minutes)\n"
     ]
    }
   ],
   "source": [
    "def convert_duration_to_minutes(duration):\n",
    "    if isinstance(duration, str):\n",
    "        hours = 0\n",
    "        minutes = 0\n",
    "        if 'h' in duration:\n",
    "            hours_part = duration.split('h')[0].strip()\n",
    "            try:\n",
    "                hours = int(hours_part)\n",
    "            except ValueError:\n",
    "                return np.nan\n",
    "        \n",
    "        if 'min' in duration:\n",
    "            minutes_part = duration.split('h')[-1].split('min')[0].strip()\n",
    "            try:\n",
    "                minutes = int(minutes_part)\n",
    "            except ValueError:\n",
    "                pass\n",
    "        \n",
    "        return hours * 60 + minutes\n",
    "    return np.nan\n",
    "\n",
    "df['duree_minutes'] = df['duree'].apply(convert_duration_to_minutes)\n",
    "\n",
    "print(df['duree_minutes'])"
   ]
  },
  {
   "cell_type": "code",
   "execution_count": 265,
   "metadata": {},
   "outputs": [
    {
     "name": "stdout",
     "output_type": "stream",
     "text": [
      "0        92.0\n",
      "1       135.0\n",
      "2       109.0\n",
      "3       100.0\n",
      "4       115.0\n",
      "        ...  \n",
      "2053     77.0\n",
      "2056    128.0\n",
      "2057    195.0\n",
      "2059    144.0\n",
      "2061     98.0\n",
      "Name: duree_minutes, Length: 1735, dtype: float64\n"
     ]
    }
   ],
   "source": [
    "print(df['duree_minutes'])"
   ]
  },
  {
   "cell_type": "markdown",
   "metadata": {},
   "source": [
    "Mettre la date dans le bon format "
   ]
  },
  {
   "cell_type": "code",
   "execution_count": 266,
   "metadata": {},
   "outputs": [
    {
     "name": "stderr",
     "output_type": "stream",
     "text": [
      "/tmp/ipykernel_174205/3295750962.py:9: SettingWithCopyWarning: \n",
      "A value is trying to be set on a copy of a slice from a DataFrame.\n",
      "Try using .loc[row_indexer,col_indexer] = value instead\n",
      "\n",
      "See the caveats in the documentation: https://pandas.pydata.org/pandas-docs/stable/user_guide/indexing.html#returning-a-view-versus-a-copy\n",
      "  df['date_sortie_france'] = df['date_sortie_france'].apply(extract_date)\n",
      "/tmp/ipykernel_174205/3295750962.py:10: SettingWithCopyWarning: \n",
      "A value is trying to be set on a copy of a slice from a DataFrame.\n",
      "Try using .loc[row_indexer,col_indexer] = value instead\n",
      "\n",
      "See the caveats in the documentation: https://pandas.pydata.org/pandas-docs/stable/user_guide/indexing.html#returning-a-view-versus-a-copy\n",
      "  df['date_sortie_usa'] = df['date_sortie_usa'].apply(extract_date)\n"
     ]
    }
   ],
   "source": [
    "def extract_date(date_str):\n",
    "    if isinstance(date_str, str) and date_str != '00/00/0000':\n",
    "        try:\n",
    "            return datetime.strptime(date_str, '%d/%m/%Y')\n",
    "        except ValueError:\n",
    "            return np.nan\n",
    "    return np.nan\n",
    "\n",
    "df['date_sortie_france'] = df['date_sortie_france'].apply(extract_date)\n",
    "df['date_sortie_usa'] = df['date_sortie_usa'].apply(extract_date)\n"
   ]
  },
  {
   "cell_type": "markdown",
   "metadata": {},
   "source": [
    "Mettre les colonnes dans le bon type"
   ]
  },
  {
   "cell_type": "code",
   "execution_count": 267,
   "metadata": {},
   "outputs": [
    {
     "name": "stderr",
     "output_type": "stream",
     "text": [
      "/tmp/ipykernel_174205/1404854004.py:8: SettingWithCopyWarning: \n",
      "A value is trying to be set on a copy of a slice from a DataFrame.\n",
      "Try using .loc[row_indexer,col_indexer] = value instead\n",
      "\n",
      "See the caveats in the documentation: https://pandas.pydata.org/pandas-docs/stable/user_guide/indexing.html#returning-a-view-versus-a-copy\n",
      "  df[col] = df[col].astype(str).str.replace('$', '', regex=False)\n",
      "/tmp/ipykernel_174205/1404854004.py:9: SettingWithCopyWarning: \n",
      "A value is trying to be set on a copy of a slice from a DataFrame.\n",
      "Try using .loc[row_indexer,col_indexer] = value instead\n",
      "\n",
      "See the caveats in the documentation: https://pandas.pydata.org/pandas-docs/stable/user_guide/indexing.html#returning-a-view-versus-a-copy\n",
      "  df[col] = df[col].str.replace(' ', '', regex=False)\n",
      "/tmp/ipykernel_174205/1404854004.py:10: SettingWithCopyWarning: \n",
      "A value is trying to be set on a copy of a slice from a DataFrame.\n",
      "Try using .loc[row_indexer,col_indexer] = value instead\n",
      "\n",
      "See the caveats in the documentation: https://pandas.pydata.org/pandas-docs/stable/user_guide/indexing.html#returning-a-view-versus-a-copy\n",
      "  df[col] = df[col].str.replace(',', '', regex=False)\n",
      "/tmp/ipykernel_174205/1404854004.py:13: SettingWithCopyWarning: \n",
      "A value is trying to be set on a copy of a slice from a DataFrame.\n",
      "Try using .loc[row_indexer,col_indexer] = value instead\n",
      "\n",
      "See the caveats in the documentation: https://pandas.pydata.org/pandas-docs/stable/user_guide/indexing.html#returning-a-view-versus-a-copy\n",
      "  df[col] = df[col].str.replace('?', '', regex=False)\n",
      "/tmp/ipykernel_174205/1404854004.py:14: SettingWithCopyWarning: \n",
      "A value is trying to be set on a copy of a slice from a DataFrame.\n",
      "Try using .loc[row_indexer,col_indexer] = value instead\n",
      "\n",
      "See the caveats in the documentation: https://pandas.pydata.org/pandas-docs/stable/user_guide/indexing.html#returning-a-view-versus-a-copy\n",
      "  df[col] = df[col].str.replace('-', '', regex=False)\n",
      "/tmp/ipykernel_174205/1404854004.py:16: SettingWithCopyWarning: \n",
      "A value is trying to be set on a copy of a slice from a DataFrame.\n",
      "Try using .loc[row_indexer,col_indexer] = value instead\n",
      "\n",
      "See the caveats in the documentation: https://pandas.pydata.org/pandas-docs/stable/user_guide/indexing.html#returning-a-view-versus-a-copy\n",
      "  df[col] = pd.to_numeric(df[col], errors='coerce')\n",
      "/tmp/ipykernel_174205/1404854004.py:8: SettingWithCopyWarning: \n",
      "A value is trying to be set on a copy of a slice from a DataFrame.\n",
      "Try using .loc[row_indexer,col_indexer] = value instead\n",
      "\n",
      "See the caveats in the documentation: https://pandas.pydata.org/pandas-docs/stable/user_guide/indexing.html#returning-a-view-versus-a-copy\n",
      "  df[col] = df[col].astype(str).str.replace('$', '', regex=False)\n",
      "/tmp/ipykernel_174205/1404854004.py:9: SettingWithCopyWarning: \n",
      "A value is trying to be set on a copy of a slice from a DataFrame.\n",
      "Try using .loc[row_indexer,col_indexer] = value instead\n",
      "\n",
      "See the caveats in the documentation: https://pandas.pydata.org/pandas-docs/stable/user_guide/indexing.html#returning-a-view-versus-a-copy\n",
      "  df[col] = df[col].str.replace(' ', '', regex=False)\n",
      "/tmp/ipykernel_174205/1404854004.py:10: SettingWithCopyWarning: \n",
      "A value is trying to be set on a copy of a slice from a DataFrame.\n",
      "Try using .loc[row_indexer,col_indexer] = value instead\n",
      "\n",
      "See the caveats in the documentation: https://pandas.pydata.org/pandas-docs/stable/user_guide/indexing.html#returning-a-view-versus-a-copy\n",
      "  df[col] = df[col].str.replace(',', '', regex=False)\n",
      "/tmp/ipykernel_174205/1404854004.py:13: SettingWithCopyWarning: \n",
      "A value is trying to be set on a copy of a slice from a DataFrame.\n",
      "Try using .loc[row_indexer,col_indexer] = value instead\n",
      "\n",
      "See the caveats in the documentation: https://pandas.pydata.org/pandas-docs/stable/user_guide/indexing.html#returning-a-view-versus-a-copy\n",
      "  df[col] = df[col].str.replace('?', '', regex=False)\n",
      "/tmp/ipykernel_174205/1404854004.py:14: SettingWithCopyWarning: \n",
      "A value is trying to be set on a copy of a slice from a DataFrame.\n",
      "Try using .loc[row_indexer,col_indexer] = value instead\n",
      "\n",
      "See the caveats in the documentation: https://pandas.pydata.org/pandas-docs/stable/user_guide/indexing.html#returning-a-view-versus-a-copy\n",
      "  df[col] = df[col].str.replace('-', '', regex=False)\n",
      "/tmp/ipykernel_174205/1404854004.py:16: SettingWithCopyWarning: \n",
      "A value is trying to be set on a copy of a slice from a DataFrame.\n",
      "Try using .loc[row_indexer,col_indexer] = value instead\n",
      "\n",
      "See the caveats in the documentation: https://pandas.pydata.org/pandas-docs/stable/user_guide/indexing.html#returning-a-view-versus-a-copy\n",
      "  df[col] = pd.to_numeric(df[col], errors='coerce')\n",
      "/tmp/ipykernel_174205/1404854004.py:8: SettingWithCopyWarning: \n",
      "A value is trying to be set on a copy of a slice from a DataFrame.\n",
      "Try using .loc[row_indexer,col_indexer] = value instead\n",
      "\n",
      "See the caveats in the documentation: https://pandas.pydata.org/pandas-docs/stable/user_guide/indexing.html#returning-a-view-versus-a-copy\n",
      "  df[col] = df[col].astype(str).str.replace('$', '', regex=False)\n",
      "/tmp/ipykernel_174205/1404854004.py:9: SettingWithCopyWarning: \n",
      "A value is trying to be set on a copy of a slice from a DataFrame.\n",
      "Try using .loc[row_indexer,col_indexer] = value instead\n",
      "\n",
      "See the caveats in the documentation: https://pandas.pydata.org/pandas-docs/stable/user_guide/indexing.html#returning-a-view-versus-a-copy\n",
      "  df[col] = df[col].str.replace(' ', '', regex=False)\n",
      "/tmp/ipykernel_174205/1404854004.py:10: SettingWithCopyWarning: \n",
      "A value is trying to be set on a copy of a slice from a DataFrame.\n",
      "Try using .loc[row_indexer,col_indexer] = value instead\n",
      "\n",
      "See the caveats in the documentation: https://pandas.pydata.org/pandas-docs/stable/user_guide/indexing.html#returning-a-view-versus-a-copy\n",
      "  df[col] = df[col].str.replace(',', '', regex=False)\n",
      "/tmp/ipykernel_174205/1404854004.py:13: SettingWithCopyWarning: \n",
      "A value is trying to be set on a copy of a slice from a DataFrame.\n",
      "Try using .loc[row_indexer,col_indexer] = value instead\n",
      "\n",
      "See the caveats in the documentation: https://pandas.pydata.org/pandas-docs/stable/user_guide/indexing.html#returning-a-view-versus-a-copy\n",
      "  df[col] = df[col].str.replace('?', '', regex=False)\n",
      "/tmp/ipykernel_174205/1404854004.py:14: SettingWithCopyWarning: \n",
      "A value is trying to be set on a copy of a slice from a DataFrame.\n",
      "Try using .loc[row_indexer,col_indexer] = value instead\n",
      "\n",
      "See the caveats in the documentation: https://pandas.pydata.org/pandas-docs/stable/user_guide/indexing.html#returning-a-view-versus-a-copy\n",
      "  df[col] = df[col].str.replace('-', '', regex=False)\n",
      "/tmp/ipykernel_174205/1404854004.py:16: SettingWithCopyWarning: \n",
      "A value is trying to be set on a copy of a slice from a DataFrame.\n",
      "Try using .loc[row_indexer,col_indexer] = value instead\n",
      "\n",
      "See the caveats in the documentation: https://pandas.pydata.org/pandas-docs/stable/user_guide/indexing.html#returning-a-view-versus-a-copy\n",
      "  df[col] = pd.to_numeric(df[col], errors='coerce')\n",
      "/tmp/ipykernel_174205/1404854004.py:8: SettingWithCopyWarning: \n",
      "A value is trying to be set on a copy of a slice from a DataFrame.\n",
      "Try using .loc[row_indexer,col_indexer] = value instead\n",
      "\n",
      "See the caveats in the documentation: https://pandas.pydata.org/pandas-docs/stable/user_guide/indexing.html#returning-a-view-versus-a-copy\n",
      "  df[col] = df[col].astype(str).str.replace('$', '', regex=False)\n",
      "/tmp/ipykernel_174205/1404854004.py:9: SettingWithCopyWarning: \n",
      "A value is trying to be set on a copy of a slice from a DataFrame.\n",
      "Try using .loc[row_indexer,col_indexer] = value instead\n",
      "\n",
      "See the caveats in the documentation: https://pandas.pydata.org/pandas-docs/stable/user_guide/indexing.html#returning-a-view-versus-a-copy\n",
      "  df[col] = df[col].str.replace(' ', '', regex=False)\n",
      "/tmp/ipykernel_174205/1404854004.py:10: SettingWithCopyWarning: \n",
      "A value is trying to be set on a copy of a slice from a DataFrame.\n",
      "Try using .loc[row_indexer,col_indexer] = value instead\n",
      "\n",
      "See the caveats in the documentation: https://pandas.pydata.org/pandas-docs/stable/user_guide/indexing.html#returning-a-view-versus-a-copy\n",
      "  df[col] = df[col].str.replace(',', '', regex=False)\n",
      "/tmp/ipykernel_174205/1404854004.py:13: SettingWithCopyWarning: \n",
      "A value is trying to be set on a copy of a slice from a DataFrame.\n",
      "Try using .loc[row_indexer,col_indexer] = value instead\n",
      "\n",
      "See the caveats in the documentation: https://pandas.pydata.org/pandas-docs/stable/user_guide/indexing.html#returning-a-view-versus-a-copy\n",
      "  df[col] = df[col].str.replace('?', '', regex=False)\n",
      "/tmp/ipykernel_174205/1404854004.py:14: SettingWithCopyWarning: \n",
      "A value is trying to be set on a copy of a slice from a DataFrame.\n",
      "Try using .loc[row_indexer,col_indexer] = value instead\n",
      "\n",
      "See the caveats in the documentation: https://pandas.pydata.org/pandas-docs/stable/user_guide/indexing.html#returning-a-view-versus-a-copy\n",
      "  df[col] = df[col].str.replace('-', '', regex=False)\n",
      "/tmp/ipykernel_174205/1404854004.py:16: SettingWithCopyWarning: \n",
      "A value is trying to be set on a copy of a slice from a DataFrame.\n",
      "Try using .loc[row_indexer,col_indexer] = value instead\n",
      "\n",
      "See the caveats in the documentation: https://pandas.pydata.org/pandas-docs/stable/user_guide/indexing.html#returning-a-view-versus-a-copy\n",
      "  df[col] = pd.to_numeric(df[col], errors='coerce')\n",
      "/tmp/ipykernel_174205/1404854004.py:8: SettingWithCopyWarning: \n",
      "A value is trying to be set on a copy of a slice from a DataFrame.\n",
      "Try using .loc[row_indexer,col_indexer] = value instead\n",
      "\n",
      "See the caveats in the documentation: https://pandas.pydata.org/pandas-docs/stable/user_guide/indexing.html#returning-a-view-versus-a-copy\n",
      "  df[col] = df[col].astype(str).str.replace('$', '', regex=False)\n",
      "/tmp/ipykernel_174205/1404854004.py:9: SettingWithCopyWarning: \n",
      "A value is trying to be set on a copy of a slice from a DataFrame.\n",
      "Try using .loc[row_indexer,col_indexer] = value instead\n",
      "\n",
      "See the caveats in the documentation: https://pandas.pydata.org/pandas-docs/stable/user_guide/indexing.html#returning-a-view-versus-a-copy\n",
      "  df[col] = df[col].str.replace(' ', '', regex=False)\n",
      "/tmp/ipykernel_174205/1404854004.py:10: SettingWithCopyWarning: \n",
      "A value is trying to be set on a copy of a slice from a DataFrame.\n",
      "Try using .loc[row_indexer,col_indexer] = value instead\n",
      "\n",
      "See the caveats in the documentation: https://pandas.pydata.org/pandas-docs/stable/user_guide/indexing.html#returning-a-view-versus-a-copy\n",
      "  df[col] = df[col].str.replace(',', '', regex=False)\n",
      "/tmp/ipykernel_174205/1404854004.py:13: SettingWithCopyWarning: \n",
      "A value is trying to be set on a copy of a slice from a DataFrame.\n",
      "Try using .loc[row_indexer,col_indexer] = value instead\n",
      "\n",
      "See the caveats in the documentation: https://pandas.pydata.org/pandas-docs/stable/user_guide/indexing.html#returning-a-view-versus-a-copy\n",
      "  df[col] = df[col].str.replace('?', '', regex=False)\n",
      "/tmp/ipykernel_174205/1404854004.py:14: SettingWithCopyWarning: \n",
      "A value is trying to be set on a copy of a slice from a DataFrame.\n",
      "Try using .loc[row_indexer,col_indexer] = value instead\n",
      "\n",
      "See the caveats in the documentation: https://pandas.pydata.org/pandas-docs/stable/user_guide/indexing.html#returning-a-view-versus-a-copy\n",
      "  df[col] = df[col].str.replace('-', '', regex=False)\n",
      "/tmp/ipykernel_174205/1404854004.py:16: SettingWithCopyWarning: \n",
      "A value is trying to be set on a copy of a slice from a DataFrame.\n",
      "Try using .loc[row_indexer,col_indexer] = value instead\n",
      "\n",
      "See the caveats in the documentation: https://pandas.pydata.org/pandas-docs/stable/user_guide/indexing.html#returning-a-view-versus-a-copy\n",
      "  df[col] = pd.to_numeric(df[col], errors='coerce')\n",
      "/tmp/ipykernel_174205/1404854004.py:8: SettingWithCopyWarning: \n",
      "A value is trying to be set on a copy of a slice from a DataFrame.\n",
      "Try using .loc[row_indexer,col_indexer] = value instead\n",
      "\n",
      "See the caveats in the documentation: https://pandas.pydata.org/pandas-docs/stable/user_guide/indexing.html#returning-a-view-versus-a-copy\n",
      "  df[col] = df[col].astype(str).str.replace('$', '', regex=False)\n",
      "/tmp/ipykernel_174205/1404854004.py:9: SettingWithCopyWarning: \n",
      "A value is trying to be set on a copy of a slice from a DataFrame.\n",
      "Try using .loc[row_indexer,col_indexer] = value instead\n",
      "\n",
      "See the caveats in the documentation: https://pandas.pydata.org/pandas-docs/stable/user_guide/indexing.html#returning-a-view-versus-a-copy\n",
      "  df[col] = df[col].str.replace(' ', '', regex=False)\n",
      "/tmp/ipykernel_174205/1404854004.py:10: SettingWithCopyWarning: \n",
      "A value is trying to be set on a copy of a slice from a DataFrame.\n",
      "Try using .loc[row_indexer,col_indexer] = value instead\n",
      "\n",
      "See the caveats in the documentation: https://pandas.pydata.org/pandas-docs/stable/user_guide/indexing.html#returning-a-view-versus-a-copy\n",
      "  df[col] = df[col].str.replace(',', '', regex=False)\n",
      "/tmp/ipykernel_174205/1404854004.py:13: SettingWithCopyWarning: \n",
      "A value is trying to be set on a copy of a slice from a DataFrame.\n",
      "Try using .loc[row_indexer,col_indexer] = value instead\n",
      "\n",
      "See the caveats in the documentation: https://pandas.pydata.org/pandas-docs/stable/user_guide/indexing.html#returning-a-view-versus-a-copy\n",
      "  df[col] = df[col].str.replace('?', '', regex=False)\n",
      "/tmp/ipykernel_174205/1404854004.py:14: SettingWithCopyWarning: \n",
      "A value is trying to be set on a copy of a slice from a DataFrame.\n",
      "Try using .loc[row_indexer,col_indexer] = value instead\n",
      "\n",
      "See the caveats in the documentation: https://pandas.pydata.org/pandas-docs/stable/user_guide/indexing.html#returning-a-view-versus-a-copy\n",
      "  df[col] = df[col].str.replace('-', '', regex=False)\n",
      "/tmp/ipykernel_174205/1404854004.py:16: SettingWithCopyWarning: \n",
      "A value is trying to be set on a copy of a slice from a DataFrame.\n",
      "Try using .loc[row_indexer,col_indexer] = value instead\n",
      "\n",
      "See the caveats in the documentation: https://pandas.pydata.org/pandas-docs/stable/user_guide/indexing.html#returning-a-view-versus-a-copy\n",
      "  df[col] = pd.to_numeric(df[col], errors='coerce')\n",
      "/tmp/ipykernel_174205/1404854004.py:19: SettingWithCopyWarning: \n",
      "A value is trying to be set on a copy of a slice from a DataFrame.\n",
      "Try using .loc[row_indexer,col_indexer] = value instead\n",
      "\n",
      "See the caveats in the documentation: https://pandas.pydata.org/pandas-docs/stable/user_guide/indexing.html#returning-a-view-versus-a-copy\n",
      "  df['entrees_demarrage_france'] = df['entrees_demarrage_france'].astype(str)\n",
      "/tmp/ipykernel_174205/1404854004.py:20: SettingWithCopyWarning: \n",
      "A value is trying to be set on a copy of a slice from a DataFrame.\n",
      "Try using .loc[row_indexer,col_indexer] = value instead\n",
      "\n",
      "See the caveats in the documentation: https://pandas.pydata.org/pandas-docs/stable/user_guide/indexing.html#returning-a-view-versus-a-copy\n",
      "  df['entrees_demarrage_france'] = df['entrees_demarrage_france'].str.replace(' ', '')\n",
      "/tmp/ipykernel_174205/1404854004.py:21: SettingWithCopyWarning: \n",
      "A value is trying to be set on a copy of a slice from a DataFrame.\n",
      "Try using .loc[row_indexer,col_indexer] = value instead\n",
      "\n",
      "See the caveats in the documentation: https://pandas.pydata.org/pandas-docs/stable/user_guide/indexing.html#returning-a-view-versus-a-copy\n",
      "  df['entrees_demarrage_france'] = df['entrees_demarrage_france'].str.replace(',', '')\n",
      "/tmp/ipykernel_174205/1404854004.py:22: SettingWithCopyWarning: \n",
      "A value is trying to be set on a copy of a slice from a DataFrame.\n",
      "Try using .loc[row_indexer,col_indexer] = value instead\n",
      "\n",
      "See the caveats in the documentation: https://pandas.pydata.org/pandas-docs/stable/user_guide/indexing.html#returning-a-view-versus-a-copy\n",
      "  df['entrees_demarrage_france'] = pd.to_numeric(df['entrees_demarrage_france'], errors='coerce')\n"
     ]
    }
   ],
   "source": [
    "numeric_columns = [\n",
    "    'entrees_demarrage_france', 'entrees_totales_france', 'budget',\n",
    "    'recette_usa', 'recette_reste_du_monde', 'recette_monde'\n",
    "]\n",
    "\n",
    "for col in numeric_columns:\n",
    "    # Nettoyage: supprimer $, espaces, etc.\n",
    "    df[col] = df[col].astype(str).str.replace('$', '', regex=False)\n",
    "    df[col] = df[col].str.replace(' ', '', regex=False)\n",
    "    df[col] = df[col].str.replace(',', '', regex=False)\n",
    "    \n",
    "    # Remplacer les caractères spéciaux par une chaîne vide\n",
    "    df[col] = df[col].str.replace('?', '', regex=False)\n",
    "    df[col] = df[col].str.replace('-', '', regex=False)\n",
    "    \n",
    "    df[col] = pd.to_numeric(df[col], errors='coerce')\n",
    "\n",
    "    # Nettoyage en profondeur avant conversion numérique\n",
    "df['entrees_demarrage_france'] = df['entrees_demarrage_france'].astype(str)\n",
    "df['entrees_demarrage_france'] = df['entrees_demarrage_france'].str.replace(' ', '')\n",
    "df['entrees_demarrage_france'] = df['entrees_demarrage_france'].str.replace(',', '')\n",
    "df['entrees_demarrage_france'] = pd.to_numeric(df['entrees_demarrage_france'], errors='coerce')"
   ]
  },
  {
   "cell_type": "code",
   "execution_count": 268,
   "metadata": {},
   "outputs": [
    {
     "name": "stdout",
     "output_type": "stream",
     "text": [
      "Nombre de lignes où entrees_demarrage_france est vide : 327\n",
      "Pourcentage de valeurs manquantes : 15.86%\n"
     ]
    }
   ],
   "source": [
    "# Nombre de lignes où la variable cible est vide (NaN)\n",
    "nb_lignes_target_vide = df1['entrees_demarrage_france'].isna().sum()\n",
    "print(f\"Nombre de lignes où entrees_demarrage_france est vide : {nb_lignes_target_vide}\")\n",
    "\n",
    "# Pourcentage de valeurs manquantes\n",
    "pourcentage_manquant = (nb_lignes_target_vide / len(df1)) * 100\n",
    "print(f\"Pourcentage de valeurs manquantes : {pourcentage_manquant:.2f}%\")"
   ]
  },
  {
   "cell_type": "code",
   "execution_count": 269,
   "metadata": {},
   "outputs": [
    {
     "name": "stdout",
     "output_type": "stream",
     "text": [
      "film_id                              int64\n",
      "titre                               object\n",
      "genre_principale                    object\n",
      "date_sortie_france          datetime64[ns]\n",
      "date_sortie_usa             datetime64[ns]\n",
      "image_url                           object\n",
      "synopsis                            object\n",
      "duree                               object\n",
      "note_moyenne                        object\n",
      "acteurs                             object\n",
      "entrees_demarrage_france           float64\n",
      "entrees_totales_france             float64\n",
      "budget                             float64\n",
      "recette_usa                        float64\n",
      "recette_reste_du_monde             float64\n",
      "recette_monde                      float64\n",
      "duree_minutes                      float64\n",
      "dtype: object\n"
     ]
    }
   ],
   "source": [
    "print(df.dtypes)"
   ]
  },
  {
   "cell_type": "markdown",
   "metadata": {},
   "source": [
    "Création du nouveau csv "
   ]
  },
  {
   "cell_type": "code",
   "execution_count": 270,
   "metadata": {},
   "outputs": [],
   "source": [
    "df.to_csv('film_v2.csv', index=False)"
   ]
  }
 ],
 "metadata": {
  "kernelspec": {
   "display_name": ".venv",
   "language": "python",
   "name": "python3"
  },
  "language_info": {
   "codemirror_mode": {
    "name": "ipython",
    "version": 3
   },
   "file_extension": ".py",
   "mimetype": "text/x-python",
   "name": "python",
   "nbconvert_exporter": "python",
   "pygments_lexer": "ipython3",
   "version": "3.12.3"
  }
 },
 "nbformat": 4,
 "nbformat_minor": 2
}
