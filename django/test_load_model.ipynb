{
 "cells": [
  {
   "cell_type": "code",
   "execution_count": 1,
   "id": "b18957c8",
   "metadata": {},
   "outputs": [
    {
     "data": {
      "text/html": [
       "<div>\n",
       "<style scoped>\n",
       "    .dataframe tbody tr th:only-of-type {\n",
       "        vertical-align: middle;\n",
       "    }\n",
       "\n",
       "    .dataframe tbody tr th {\n",
       "        vertical-align: top;\n",
       "    }\n",
       "\n",
       "    .dataframe thead th {\n",
       "        text-align: right;\n",
       "    }\n",
       "</style>\n",
       "<table border=\"1\" class=\"dataframe\">\n",
       "  <thead>\n",
       "    <tr style=\"text-align: right;\">\n",
       "      <th></th>\n",
       "      <th>film_id</th>\n",
       "      <th>titre</th>\n",
       "      <th>genre_principale</th>\n",
       "      <th>date_sortie_france</th>\n",
       "      <th>date_sortie_usa</th>\n",
       "      <th>image_url</th>\n",
       "      <th>synopsis</th>\n",
       "      <th>duree</th>\n",
       "      <th>note_moyenne</th>\n",
       "      <th>acteurs</th>\n",
       "      <th>entrees_demarrage_france</th>\n",
       "      <th>entrees_totales_france</th>\n",
       "      <th>budget</th>\n",
       "      <th>recette_usa</th>\n",
       "      <th>recette_reste_du_monde</th>\n",
       "      <th>recette_monde</th>\n",
       "    </tr>\n",
       "  </thead>\n",
       "  <tbody>\n",
       "    <tr>\n",
       "      <th>0</th>\n",
       "      <td>20156</td>\n",
       "      <td>L'Extraordinaire Voyage de Marona</td>\n",
       "      <td>Animation</td>\n",
       "      <td>08/01/2020</td>\n",
       "      <td>00/00/0000</td>\n",
       "      <td>https://www.jpbox-office.com/cinema/images/pos...</td>\n",
       "      <td>Victime d’un accident, Marona, une petite chie...</td>\n",
       "      <td>1h 32min</td>\n",
       "      <td>Non disponible</td>\n",
       "      <td>Non disponible</td>\n",
       "      <td>12 065</td>\n",
       "      <td>37 632</td>\n",
       "      <td>?</td>\n",
       "      <td>- $</td>\n",
       "      <td>41 568 $</td>\n",
       "      <td>41 568 $</td>\n",
       "    </tr>\n",
       "    <tr>\n",
       "      <th>1</th>\n",
       "      <td>19778</td>\n",
       "      <td>Les Filles du Docteur March</td>\n",
       "      <td>Adaptation Livre</td>\n",
       "      <td>01/01/2020</td>\n",
       "      <td>25/12/2019</td>\n",
       "      <td>https://www.jpbox-office.com/cinema/images/pos...</td>\n",
       "      <td>Une nouvelle adaptation du classique de Louisa...</td>\n",
       "      <td>2h 15min</td>\n",
       "      <td>3</td>\n",
       "      <td>Emma Watson (Rôle principal - - Meg March) | T...</td>\n",
       "      <td>242 663</td>\n",
       "      <td>805 211</td>\n",
       "      <td>40 000 000 $</td>\n",
       "      <td>108 101 214 $</td>\n",
       "      <td>92 100 000 $</td>\n",
       "      <td>200 201 214 $</td>\n",
       "    </tr>\n",
       "  </tbody>\n",
       "</table>\n",
       "</div>"
      ],
      "text/plain": [
       "   film_id                              titre  genre_principale  \\\n",
       "0    20156  L'Extraordinaire Voyage de Marona         Animation   \n",
       "1    19778        Les Filles du Docteur March  Adaptation Livre   \n",
       "\n",
       "  date_sortie_france date_sortie_usa  \\\n",
       "0         08/01/2020      00/00/0000   \n",
       "1         01/01/2020      25/12/2019   \n",
       "\n",
       "                                           image_url  \\\n",
       "0  https://www.jpbox-office.com/cinema/images/pos...   \n",
       "1  https://www.jpbox-office.com/cinema/images/pos...   \n",
       "\n",
       "                                            synopsis     duree  \\\n",
       "0  Victime d’un accident, Marona, une petite chie...  1h 32min   \n",
       "1  Une nouvelle adaptation du classique de Louisa...  2h 15min   \n",
       "\n",
       "     note_moyenne                                            acteurs  \\\n",
       "0  Non disponible                                     Non disponible   \n",
       "1               3  Emma Watson (Rôle principal - - Meg March) | T...   \n",
       "\n",
       "  entrees_demarrage_france entrees_totales_france        budget  \\\n",
       "0                   12 065                 37 632            ?    \n",
       "1                  242 663                805 211  40 000 000 $   \n",
       "\n",
       "     recette_usa recette_reste_du_monde  recette_monde  \n",
       "0            - $               41 568 $       41 568 $  \n",
       "1  108 101 214 $           92 100 000 $  200 201 214 $  "
      ]
     },
     "execution_count": 1,
     "metadata": {},
     "output_type": "execute_result"
    }
   ],
   "source": [
    "import joblib\n",
    "\n",
    "# chargement data \n",
    "import pandas as pd\n",
    "original_csv = pd.read_csv('static/films_jp_box.csv')\n",
    "original_csv.head(2)"
   ]
  },
  {
   "cell_type": "code",
   "execution_count": 2,
   "id": "9fece51e",
   "metadata": {},
   "outputs": [
    {
     "name": "stdout",
     "output_type": "stream",
     "text": [
      "Gran Turismo\n"
     ]
    }
   ],
   "source": [
    "import os\n",
    "import django\n",
    "\n",
    "os.environ.setdefault(\"DJANGO_SETTINGS_MODULE\", \"filmprediction.settings\")\n",
    "django.setup()\n",
    "\n",
    "from films.models import Movie\n",
    "from asgiref.sync import sync_to_async\n",
    "\n",
    "@sync_to_async\n",
    "def get_movie(movie_id) -> Movie :\n",
    "    return Movie.objects.get(id=movie_id)\n",
    "\n",
    "selected_movie_id = 7\n",
    "selected_movie = await get_movie(selected_movie_id)\n",
    "\n",
    "print(selected_movie)\n"
   ]
  },
  {
   "cell_type": "code",
   "execution_count": 3,
   "id": "da037bf4",
   "metadata": {},
   "outputs": [
    {
     "name": "stdout",
     "output_type": "stream",
     "text": [
      " _____________________________________________________ \n",
      "|                                                     |\n",
      "|  Gran Turismo : 291516 entrées en première semaine  |\n",
      "|_____________________________________________________|\n",
      "6    382 349\n",
      "Name: entrees_demarrage_france, dtype: object\n"
     ]
    },
    {
     "name": "stderr",
     "output_type": "stream",
     "text": [
      "/home/nicolascassonnet/Documents/WORK/film-prediction/django/model_utils.py:61: FutureWarning: DataFrame.applymap has been deprecated. Use DataFrame.map instead.\n",
      "  return date_columns.applymap(get_year).to_numpy()\n",
      "/home/nicolascassonnet/Documents/WORK/film-prediction/django/model_utils.py:64: FutureWarning: DataFrame.applymap has been deprecated. Use DataFrame.map instead.\n",
      "  return date_columns.applymap(get_minutes).to_numpy()\n",
      "/home/nicolascassonnet/Documents/WORK/film-prediction/django/model_utils.py:67: FutureWarning: DataFrame.applymap has been deprecated. Use DataFrame.map instead.\n",
      "  return number_columns.applymap(get_number).to_numpy()\n",
      "/tmp/ipykernel_26211/337416984.py:9: DeprecationWarning: Conversion of an array with ndim > 0 to a scalar is deprecated, and will error in future. Ensure you extract a single element from your array before performing this operation. (Deprecated NumPy 1.25.)\n",
      "  text_line  = f\"{selected_movie.title} : {int(prediction)} entrées en première semaine\"\n"
     ]
    }
   ],
   "source": [
    "movie_row = original_csv[original_csv['titre']== selected_movie.title].iloc[[0]]\n",
    "\n",
    "from sklearn.pipeline import Pipeline\n",
    "\n",
    "dummy_model: Pipeline  = joblib.load(\"dummy_pipeline.joblib\")\n",
    "prediction = dummy_model.predict(movie_row)\n",
    "\n",
    "\n",
    "text_line  = f\"{selected_movie.title} : {int(prediction)} entrées en première semaine\"\n",
    "print(\" __\"+len(text_line)*\"_\"+\"__ \")\n",
    "print(\"|  \"+len(text_line)*\" \"+\"  |\")\n",
    "print(\"|  \" + text_line + \"  |\")\n",
    "print(\"|__\"+len(text_line)*\"_\"+\"__|\")\n",
    "print(movie_row['entrees_demarrage_france'])\n"
   ]
  },
  {
   "cell_type": "code",
   "execution_count": 10,
   "id": "92c0c548",
   "metadata": {},
   "outputs": [
    {
     "name": "stdout",
     "output_type": "stream",
     "text": [
      "predictions : 16\n"
     ]
    },
    {
     "name": "stderr",
     "output_type": "stream",
     "text": [
      "/tmp/ipykernel_26211/2547110217.py:12: DeprecationWarning: Conversion of an array with ndim > 0 to a scalar is deprecated, and will error in future. Ensure you extract a single element from your array before performing this operation. (Deprecated NumPy 1.25.)\n",
      "  metric_score = float(pred_int/4),\n"
     ]
    }
   ],
   "source": [
    "# mise à jour de la base de données\n",
    "\n",
    "from films.models import Movie, PredictionHistory\n",
    "import datetime as dt\n",
    "\n",
    "pred_int = prediction\n",
    "today = dt.datetime.now().date()\n",
    "\n",
    "new_entry = PredictionHistory(\n",
    "    movie_id = selected_movie.id, \n",
    "    first_week_predicted_entries_france = pred_int, \n",
    "    metric_score = float(pred_int/4),\n",
    "    model_version = 0,\n",
    "    date = today\n",
    ")\n",
    "\n",
    "@sync_to_async\n",
    "def insert_prediction_history(prediction_history : PredictionHistory):\n",
    "    prediction_history.save()\n",
    "\n",
    "await insert_prediction_history(new_entry)\n",
    "\n",
    "@sync_to_async\n",
    "def get_movie_and_predictions(movie_id) -> Movie:\n",
    "    return_movie = Movie.objects.prefetch_related('predictions').get(id=movie_id)\n",
    "    return return_movie\n",
    "\n",
    "updated_movie = await get_movie_and_predictions(selected_movie.id)\n",
    "predictions = updated_movie.predictions.all()\n",
    "\n",
    "print (f\"predictions : {len(predictions)}\")\n"
   ]
  }
 ],
 "metadata": {
  "kernelspec": {
   "display_name": ".venv",
   "language": "python",
   "name": "python3"
  },
  "language_info": {
   "codemirror_mode": {
    "name": "ipython",
    "version": 3
   },
   "file_extension": ".py",
   "mimetype": "text/x-python",
   "name": "python",
   "nbconvert_exporter": "python",
   "pygments_lexer": "ipython3",
   "version": "3.12.3"
  }
 },
 "nbformat": 4,
 "nbformat_minor": 5
}
