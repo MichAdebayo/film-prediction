{
 "cells": [
  {
   "cell_type": "markdown",
   "id": "35b94ae4",
   "metadata": {},
   "source": [
    "## Dummy Model"
   ]
  },
  {
   "cell_type": "markdown",
   "id": "930987f0",
   "metadata": {},
   "source": [
    "### 1. Load Data"
   ]
  },
  {
   "cell_type": "code",
   "execution_count": 23,
   "id": "4e18f09e",
   "metadata": {},
   "outputs": [
    {
     "name": "stdout",
     "output_type": "stream",
     "text": [
      "(5300, 15)\n"
     ]
    }
   ],
   "source": [
    "import pandas as pd\n",
    "\n",
    "#original_data = pd.read_csv(\"static/films_jp_box.csv\")\n",
    "original_data = pd.read_csv(\"static/films_jp_box_V2.csv\", sep=';')\n",
    "#original_data = pd.read_csv(\"static/massive_jpbox_clean.csv\")\n",
    "\n",
    "print(f\"{original_data.shape}\")\n",
    "#original_data.head()\n"
   ]
  },
  {
   "cell_type": "code",
   "execution_count": 8,
   "id": "e7ce4033",
   "metadata": {},
   "outputs": [],
   "source": [
    "#original_data[\"duree_minutes\"].describe()"
   ]
  },
  {
   "cell_type": "code",
   "execution_count": 9,
   "id": "711fa79f",
   "metadata": {},
   "outputs": [
    {
     "data": {
      "text/plain": [
       "Index(['film_id', 'titre', 'genre_principale', 'date_sortie_france',\n",
       "       'date_sortie_usa', 'synopsis', 'acteurs', 'budget',\n",
       "       'entrees_demarrage_france', 'entrees_totales_france', 'recette_usa',\n",
       "       'recette_monde', 'image_url', 'note_moyenne', 'duree'],\n",
       "      dtype='object')"
      ]
     },
     "execution_count": 9,
     "metadata": {},
     "output_type": "execute_result"
    }
   ],
   "source": [
    "original_data.columns"
   ]
  },
  {
   "cell_type": "markdown",
   "id": "ed7cd69b",
   "metadata": {},
   "source": [
    "### 2. Feature selection"
   ]
  },
  {
   "cell_type": "code",
   "execution_count": 10,
   "id": "880fa900",
   "metadata": {},
   "outputs": [
    {
     "data": {
      "text/html": [
       "<div>\n",
       "<style scoped>\n",
       "    .dataframe tbody tr th:only-of-type {\n",
       "        vertical-align: middle;\n",
       "    }\n",
       "\n",
       "    .dataframe tbody tr th {\n",
       "        vertical-align: top;\n",
       "    }\n",
       "\n",
       "    .dataframe thead th {\n",
       "        text-align: right;\n",
       "    }\n",
       "</style>\n",
       "<table border=\"1\" class=\"dataframe\">\n",
       "  <thead>\n",
       "    <tr style=\"text-align: right;\">\n",
       "      <th></th>\n",
       "      <th>date_sortie_france</th>\n",
       "      <th>date_sortie_usa</th>\n",
       "      <th>budget</th>\n",
       "      <th>entrees_demarrage_france</th>\n",
       "      <th>entrees_totales_france</th>\n",
       "      <th>recette_usa</th>\n",
       "      <th>recette_monde</th>\n",
       "      <th>duree</th>\n",
       "    </tr>\n",
       "  </thead>\n",
       "  <tbody>\n",
       "    <tr>\n",
       "      <th>0</th>\n",
       "      <td>08/01/2020</td>\n",
       "      <td>00/00/0000</td>\n",
       "      <td>20 000 000 $</td>\n",
       "      <td>NaN</td>\n",
       "      <td>NaN</td>\n",
       "      <td>- $</td>\n",
       "      <td>1 835 634 $</td>\n",
       "      <td>1h 51min</td>\n",
       "    </tr>\n",
       "    <tr>\n",
       "      <th>1</th>\n",
       "      <td>10/02/2010</td>\n",
       "      <td>12/02/2010</td>\n",
       "      <td>150 000 000 $</td>\n",
       "      <td>214 497</td>\n",
       "      <td>334 885</td>\n",
       "      <td>61 937 495 $</td>\n",
       "      <td>77 810 085 $</td>\n",
       "      <td>1h 43min</td>\n",
       "    </tr>\n",
       "    <tr>\n",
       "      <th>2</th>\n",
       "      <td>01/01/2020</td>\n",
       "      <td>15/11/2019</td>\n",
       "      <td>10 000 000 $</td>\n",
       "      <td>66 229</td>\n",
       "      <td>105 205</td>\n",
       "      <td>17 156 058 $</td>\n",
       "      <td>11 200 000 $</td>\n",
       "      <td>1h 50min</td>\n",
       "    </tr>\n",
       "    <tr>\n",
       "      <th>3</th>\n",
       "      <td>06/01/2010</td>\n",
       "      <td>00/00/0000</td>\n",
       "      <td>NaN</td>\n",
       "      <td>16 820</td>\n",
       "      <td>60 220</td>\n",
       "      <td>NaN</td>\n",
       "      <td>NaN</td>\n",
       "      <td>1h 32min</td>\n",
       "    </tr>\n",
       "    <tr>\n",
       "      <th>4</th>\n",
       "      <td>14/04/2010</td>\n",
       "      <td>16/10/2009</td>\n",
       "      <td>14 700 000 $</td>\n",
       "      <td>39 797</td>\n",
       "      <td>103 782</td>\n",
       "      <td>1 585 787 $</td>\n",
       "      <td>6 427 072 $</td>\n",
       "      <td>1h 43min</td>\n",
       "    </tr>\n",
       "  </tbody>\n",
       "</table>\n",
       "</div>"
      ],
      "text/plain": [
       "  date_sortie_france date_sortie_usa         budget entrees_demarrage_france  \\\n",
       "0         08/01/2020      00/00/0000   20 000 000 $                      NaN   \n",
       "1         10/02/2010      12/02/2010  150 000 000 $                  214 497   \n",
       "2         01/01/2020      15/11/2019   10 000 000 $                   66 229   \n",
       "3         06/01/2010      00/00/0000            NaN                   16 820   \n",
       "4         14/04/2010      16/10/2009   14 700 000 $                   39 797   \n",
       "\n",
       "  entrees_totales_france   recette_usa recette_monde     duree  \n",
       "0                    NaN           - $   1 835 634 $  1h 51min  \n",
       "1                334 885  61 937 495 $  77 810 085 $  1h 43min  \n",
       "2                105 205  17 156 058 $  11 200 000 $  1h 50min  \n",
       "3                 60 220           NaN           NaN  1h 32min  \n",
       "4                103 782   1 585 787 $   6 427 072 $  1h 43min  "
      ]
     },
     "execution_count": 10,
     "metadata": {},
     "output_type": "execute_result"
    }
   ],
   "source": [
    "#dropped_columns= [\"film_id\", \"titre\", \"genre_principale\", \"image_url\", \"synopsis\", \"note_moyenne\", \"acteurs\", \"recette_reste_du_monde\"]\n",
    "dropped_columns= [\"film_id\", \"titre\", \"genre_principale\", \"image_url\", \"synopsis\", \"note_moyenne\", \"acteurs\"]\n",
    "# dropped_columns = [\"film_id\", \"titre\", \"genre_principale\", \"genres\", \"date_sortie_usa\",\n",
    "#                     \"synopsis\", \"realisateur\", \"acteurs\", \"pays_origine\", \n",
    "#                     \"box_office_demarrage\", \"box_office_france\", \"recette_usa\", \"recette_monde\", \n",
    "#                     \"image_url\",\n",
    "#                     \"note_moyenne\"],\n",
    "\n",
    "def select_data(current_data : pd.DataFrame) -> pd.DataFrame :\n",
    "    selected_data = current_data.copy()\n",
    "    for column_to_drop in dropped_columns:\n",
    "        selected_data = selected_data.drop(column_to_drop, axis=1)\n",
    "\n",
    "    return selected_data\n",
    "\n",
    "selected_data = select_data(original_data)\n",
    "selected_data.head()\n"
   ]
  },
  {
   "cell_type": "code",
   "execution_count": 11,
   "id": "ad537009",
   "metadata": {},
   "outputs": [
    {
     "data": {
      "text/plain": [
       "Index(['date_sortie_france', 'date_sortie_usa', 'budget',\n",
       "       'entrees_demarrage_france', 'entrees_totales_france', 'recette_usa',\n",
       "       'recette_monde', 'duree'],\n",
       "      dtype='object')"
      ]
     },
     "execution_count": 11,
     "metadata": {},
     "output_type": "execute_result"
    }
   ],
   "source": [
    "selected_data.columns"
   ]
  },
  {
   "cell_type": "markdown",
   "id": "729dbabb",
   "metadata": {},
   "source": [
    "### 3. Clean data"
   ]
  },
  {
   "cell_type": "code",
   "execution_count": 12,
   "id": "dee5e7c9",
   "metadata": {},
   "outputs": [
    {
     "data": {
      "text/html": [
       "<div>\n",
       "<style scoped>\n",
       "    .dataframe tbody tr th:only-of-type {\n",
       "        vertical-align: middle;\n",
       "    }\n",
       "\n",
       "    .dataframe tbody tr th {\n",
       "        vertical-align: top;\n",
       "    }\n",
       "\n",
       "    .dataframe thead th {\n",
       "        text-align: right;\n",
       "    }\n",
       "</style>\n",
       "<table border=\"1\" class=\"dataframe\">\n",
       "  <thead>\n",
       "    <tr style=\"text-align: right;\">\n",
       "      <th></th>\n",
       "      <th>date_sortie_france</th>\n",
       "      <th>date_sortie_usa</th>\n",
       "      <th>budget</th>\n",
       "      <th>entrees_demarrage_france</th>\n",
       "      <th>entrees_totales_france</th>\n",
       "      <th>recette_usa</th>\n",
       "      <th>recette_monde</th>\n",
       "      <th>duree</th>\n",
       "    </tr>\n",
       "  </thead>\n",
       "  <tbody>\n",
       "    <tr>\n",
       "      <th>0</th>\n",
       "      <td>2020</td>\n",
       "      <td>0</td>\n",
       "      <td>20000000</td>\n",
       "      <td>0</td>\n",
       "      <td>0</td>\n",
       "      <td>0</td>\n",
       "      <td>1835634</td>\n",
       "      <td>52</td>\n",
       "    </tr>\n",
       "    <tr>\n",
       "      <th>1</th>\n",
       "      <td>2010</td>\n",
       "      <td>2010</td>\n",
       "      <td>150000000</td>\n",
       "      <td>214497</td>\n",
       "      <td>334885</td>\n",
       "      <td>61937495</td>\n",
       "      <td>77810085</td>\n",
       "      <td>44</td>\n",
       "    </tr>\n",
       "    <tr>\n",
       "      <th>2</th>\n",
       "      <td>2020</td>\n",
       "      <td>2019</td>\n",
       "      <td>10000000</td>\n",
       "      <td>66229</td>\n",
       "      <td>105205</td>\n",
       "      <td>17156058</td>\n",
       "      <td>11200000</td>\n",
       "      <td>51</td>\n",
       "    </tr>\n",
       "    <tr>\n",
       "      <th>3</th>\n",
       "      <td>2010</td>\n",
       "      <td>0</td>\n",
       "      <td>0</td>\n",
       "      <td>16820</td>\n",
       "      <td>60220</td>\n",
       "      <td>0</td>\n",
       "      <td>0</td>\n",
       "      <td>33</td>\n",
       "    </tr>\n",
       "    <tr>\n",
       "      <th>4</th>\n",
       "      <td>2010</td>\n",
       "      <td>2009</td>\n",
       "      <td>14700000</td>\n",
       "      <td>39797</td>\n",
       "      <td>103782</td>\n",
       "      <td>1585787</td>\n",
       "      <td>6427072</td>\n",
       "      <td>44</td>\n",
       "    </tr>\n",
       "  </tbody>\n",
       "</table>\n",
       "</div>"
      ],
      "text/plain": [
       "   date_sortie_france  date_sortie_usa     budget  entrees_demarrage_france  \\\n",
       "0                2020                0   20000000                         0   \n",
       "1                2010             2010  150000000                    214497   \n",
       "2                2020             2019   10000000                     66229   \n",
       "3                2010                0          0                     16820   \n",
       "4                2010             2009   14700000                     39797   \n",
       "\n",
       "   entrees_totales_france  recette_usa  recette_monde  duree  \n",
       "0                       0            0        1835634     52  \n",
       "1                  334885     61937495       77810085     44  \n",
       "2                  105205     17156058       11200000     51  \n",
       "3                   60220            0              0     33  \n",
       "4                  103782      1585787        6427072     44  "
      ]
     },
     "execution_count": 12,
     "metadata": {},
     "output_type": "execute_result"
    }
   ],
   "source": [
    "from dummy_model_utils import get_year, get_minutes, get_number\n",
    "\n",
    "def clean_data( current_data : pd.DataFrame) -> pd.DataFrame :\n",
    "    cleaned_data = current_data.copy()\n",
    "    cleaned_data[\"date_sortie_france\"] = cleaned_data[\"date_sortie_france\"].apply(lambda x : get_year(x)).astype(int)\n",
    "    cleaned_data[\"date_sortie_usa\"] = cleaned_data[\"date_sortie_usa\"].apply(lambda x : get_year(x)).astype(int)\n",
    "\n",
    "    cleaned_data[\"duree\"] = cleaned_data[\"duree\"].apply(lambda x : get_minutes(x)).astype(int)\n",
    "    \n",
    "    cleaned_data[\"entrees_demarrage_france\"] = cleaned_data[\"entrees_demarrage_france\"].apply(lambda x : get_number(x)).astype(int)\n",
    "    cleaned_data[\"entrees_totales_france\"] = cleaned_data[\"entrees_totales_france\"].apply(lambda x : get_number(x)).astype(int)\n",
    "    cleaned_data[\"budget\"] = cleaned_data[\"budget\"].apply(lambda x : get_number(x)).astype(int)\n",
    "    cleaned_data[\"recette_usa\"] = cleaned_data[\"recette_usa\"].apply(lambda x : get_number(x)).astype(int)\n",
    "    cleaned_data[\"recette_monde\"] = cleaned_data[\"recette_monde\"].apply(lambda x : get_number(x)).astype(int)\n",
    "    return cleaned_data \n",
    "\n",
    "cleaned_data = clean_data(selected_data)\n",
    "cleaned_data.head()"
   ]
  },
  {
   "cell_type": "code",
   "execution_count": 13,
   "id": "b4d8683b",
   "metadata": {},
   "outputs": [],
   "source": [
    "from sklearn.pipeline import Pipeline, make_pipeline \n",
    "from sklearn.compose import ColumnTransformer\n",
    "from sklearn.preprocessing import FunctionTransformer, StandardScaler\n",
    "import numpy as np\n",
    "from pandas import DataFrame \n",
    "\n",
    "from dummy_model_utils import ColumnDropper, get_year_tab, get_minutes_tab, get_number_tab\n",
    "\n",
    "\n",
    "\n",
    "# Pipeline de transformation\n",
    "preprocessing = make_pipeline(\n",
    "    ColumnDropper(columns_to_drop=dropped_columns),\n",
    "    ColumnTransformer(transformers=[\n",
    "        ('keep_year', FunctionTransformer(get_year_tab), ['date_sortie_france', 'date_sortie_usa']),\n",
    "        ('get_minutes', FunctionTransformer(get_minutes_tab, validate=False), ['duree']),\n",
    "        ('get_number', FunctionTransformer(get_number_tab, validate=False), ['entrees_totales_france', 'budget', 'recette_usa', 'recette_monde']),\n",
    "    ], remainder='passthrough')  # 'passthrough' pour garder 'id'\n",
    ")\n",
    "\n"
   ]
  },
  {
   "cell_type": "markdown",
   "id": "ac5e550b",
   "metadata": {},
   "source": [
    "### 4. Train model"
   ]
  },
  {
   "cell_type": "code",
   "execution_count": 14,
   "id": "da4f9663",
   "metadata": {},
   "outputs": [
    {
     "name": "stdout",
     "output_type": "stream",
     "text": [
      "Meilleur alpha trouvé : 28128634443.278652\n",
      "Score R² train : 0.8774792695221488\n",
      "Score R² test  : 1.0\n",
      "RMSE : 118687.67771175392\n"
     ]
    },
    {
     "name": "stderr",
     "output_type": "stream",
     "text": [
      "/home/nicolascassonnet/Documents/WORK/film-prediction/django/dummy_model_utils.py:61: FutureWarning: DataFrame.applymap has been deprecated. Use DataFrame.map instead.\n",
      "  return date_columns.applymap(get_year).to_numpy()\n",
      "/home/nicolascassonnet/Documents/WORK/film-prediction/django/dummy_model_utils.py:64: FutureWarning: DataFrame.applymap has been deprecated. Use DataFrame.map instead.\n",
      "  return date_columns.applymap(get_minutes).to_numpy()\n",
      "/home/nicolascassonnet/Documents/WORK/film-prediction/django/dummy_model_utils.py:67: FutureWarning: DataFrame.applymap has been deprecated. Use DataFrame.map instead.\n",
      "  return number_columns.applymap(get_number).to_numpy()\n",
      "/home/nicolascassonnet/Documents/WORK/film-prediction/django/dummy_model_utils.py:61: FutureWarning: DataFrame.applymap has been deprecated. Use DataFrame.map instead.\n",
      "  return date_columns.applymap(get_year).to_numpy()\n",
      "/home/nicolascassonnet/Documents/WORK/film-prediction/django/dummy_model_utils.py:64: FutureWarning: DataFrame.applymap has been deprecated. Use DataFrame.map instead.\n",
      "  return date_columns.applymap(get_minutes).to_numpy()\n",
      "/home/nicolascassonnet/Documents/WORK/film-prediction/django/dummy_model_utils.py:67: FutureWarning: DataFrame.applymap has been deprecated. Use DataFrame.map instead.\n",
      "  return number_columns.applymap(get_number).to_numpy()\n",
      "/home/nicolascassonnet/Documents/WORK/film-prediction/django/dummy_model_utils.py:61: FutureWarning: DataFrame.applymap has been deprecated. Use DataFrame.map instead.\n",
      "  return date_columns.applymap(get_year).to_numpy()\n",
      "/home/nicolascassonnet/Documents/WORK/film-prediction/django/dummy_model_utils.py:64: FutureWarning: DataFrame.applymap has been deprecated. Use DataFrame.map instead.\n",
      "  return date_columns.applymap(get_minutes).to_numpy()\n",
      "/home/nicolascassonnet/Documents/WORK/film-prediction/django/dummy_model_utils.py:67: FutureWarning: DataFrame.applymap has been deprecated. Use DataFrame.map instead.\n",
      "  return number_columns.applymap(get_number).to_numpy()\n",
      "/home/nicolascassonnet/Documents/WORK/film-prediction/django/dummy_model_utils.py:61: FutureWarning: DataFrame.applymap has been deprecated. Use DataFrame.map instead.\n",
      "  return date_columns.applymap(get_year).to_numpy()\n",
      "/home/nicolascassonnet/Documents/WORK/film-prediction/django/dummy_model_utils.py:64: FutureWarning: DataFrame.applymap has been deprecated. Use DataFrame.map instead.\n",
      "  return date_columns.applymap(get_minutes).to_numpy()\n",
      "/home/nicolascassonnet/Documents/WORK/film-prediction/django/dummy_model_utils.py:67: FutureWarning: DataFrame.applymap has been deprecated. Use DataFrame.map instead.\n",
      "  return number_columns.applymap(get_number).to_numpy()\n"
     ]
    }
   ],
   "source": [
    "from sklearn.linear_model import LassoCV\n",
    "from sklearn.model_selection import train_test_split\n",
    "from sklearn.metrics import root_mean_squared_error\n",
    "\n",
    "#y = cleaned_data['entrees_demarrage_france']\n",
    "#X = cleaned_data.drop('entrees_demarrage_france', axis=1)\n",
    "\n",
    "#y = original_data['entrees_demarrage_france']\n",
    "y = original_data['entrees_demarrage_france'].apply(lambda x: get_number(x))\n",
    "X = original_data.drop('entrees_demarrage_france', axis=1)\n",
    "\n",
    "X_train, X_test, y_train, y_test = train_test_split(X, y, test_size=0.2, random_state=42)\n",
    "\n",
    "full_pipeline = Pipeline(steps=[\n",
    "    ('preprocessing', preprocessing),\n",
    "    ('regressor', LassoCV(cv=5))\n",
    "])\n",
    "\n",
    "#lasso = LassoCV(cv=5, random_state=42)\n",
    "#lasso.fit(X_train, y_train)\n",
    "\n",
    "full_pipeline.fit(X_train, y_train)\n",
    "\n",
    "print(\"Meilleur alpha trouvé :\", full_pipeline.named_steps['regressor'].alpha_)\n",
    "print(\"Score R² train :\", full_pipeline.score(X_train, y_train))\n",
    "\n",
    "y_pred = full_pipeline.predict(X_test)\n",
    "print(\"Score R² test  :\", full_pipeline.score(X_test, y_pred))\n",
    "\n",
    "rmse = root_mean_squared_error(y_test, y_pred)\n",
    "print(\"RMSE :\", rmse)\n",
    "#print(\"RMSE divided by 2000 :\", rmse /2000)\n"
   ]
  },
  {
   "cell_type": "code",
   "execution_count": 15,
   "id": "4de7c7aa",
   "metadata": {},
   "outputs": [
    {
     "data": {
      "text/plain": [
       "['dummy_pipeline.joblib']"
      ]
     },
     "execution_count": 15,
     "metadata": {},
     "output_type": "execute_result"
    }
   ],
   "source": [
    "import joblib\n",
    "\n",
    "joblib.dump(full_pipeline, \"dummy_pipeline.joblib\")"
   ]
  }
 ],
 "metadata": {
  "kernelspec": {
   "display_name": ".venv",
   "language": "python",
   "name": "python3"
  },
  "language_info": {
   "codemirror_mode": {
    "name": "ipython",
    "version": 3
   },
   "file_extension": ".py",
   "mimetype": "text/x-python",
   "name": "python",
   "nbconvert_exporter": "python",
   "pygments_lexer": "ipython3",
   "version": "3.12.3"
  }
 },
 "nbformat": 4,
 "nbformat_minor": 5
}
