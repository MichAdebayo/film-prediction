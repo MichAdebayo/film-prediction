{
  "cells": [
    {
      "cell_type": "code",
      "execution_count": 1,
      "metadata": {},
      "outputs": [
        {
          "ename": "FileNotFoundError",
          "evalue": "[Errno 2] No such file or directory: 'null/Users/ncassonet.ext'",
          "output_type": "error",
          "traceback": [
            "\u001b[0;31m---------------------------------------------------------------------------\u001b[0m",
            "\u001b[0;31mFileNotFoundError\u001b[0m                         Traceback (most recent call last)",
            "Cell \u001b[0;32mIn[1], line 2\u001b[0m\n\u001b[1;32m      1\u001b[0m \u001b[38;5;28;01mimport\u001b[39;00m \u001b[38;5;21;01mos\u001b[39;00m\n\u001b[0;32m----> 2\u001b[0m \u001b[43mos\u001b[49m\u001b[38;5;241;43m.\u001b[39;49m\u001b[43mchdir\u001b[49m\u001b[43m(\u001b[49m\u001b[38;5;124;43m\"\u001b[39;49m\u001b[38;5;124;43mnull/Users/ncassonet.ext\u001b[39;49m\u001b[38;5;124;43m\"\u001b[39;49m\u001b[43m)\u001b[49m\n",
            "\u001b[0;31mFileNotFoundError\u001b[0m: [Errno 2] No such file or directory: 'null/Users/ncassonet.ext'"
          ]
        }
      ],
      "source": [
        "!pip install azure-storage-blob"
      ]
    },
    {
      "cell_type": "code",
      "execution_count": null,
      "metadata": {
        "gather": {
          "logged": 1745325729153
        }
      },
      "outputs": [],
      "source": [
        "from azure.storage.blob import BlobServiceClient\n",
        "import pandas as pd\n",
        "import io\n",
        "\n",
        "# accessible via Paramètres - Points de terminaison du compte de stockage\n",
        "account_name = \"allocinestorage\"  \n",
        "account_url = f\"https://{account_name}.blob.core.windows.net\"\n",
        "container_name = \"scraping-container\"\n",
        "blob_name = \"allocine.csv\"  # ou \"dossier/allocine.csv\" si dans un sous-dossier\n",
        "#blob_name = \"allocine_20250418_115000.csv\"\n",
        "\n",
        "# URL du fichier ciblé : https://allocinestorage.blob.core.windows.net/scraping-container/allocine.csv\n",
        "blob_url = f\"{account_url}{container_name}/{blob_name}\"\n",
        "#print(blob_url)\n",
        "\n",
        "# trouvé dans allocinestorage => securite + reseau => cle d'acces\n",
        "account_key = \"...\"\n",
        "\n",
        "blob_service_client = BlobServiceClient(account_url=account_url, credential=account_key)\n",
        "\n",
        "blob_client = blob_service_client.get_blob_client(container=container_name, blob=blob_name)\n",
        "blob_downloader = blob_client.download_blob()\n",
        "downloaded_blob = blob_downloader.readall()\n",
        "\n",
        "import datetime as dt\n",
        "from zoneinfo import ZoneInfo\n",
        "\n",
        "dataframe = None\n",
        "\n",
        "try:\n",
        "    \n",
        "    print(dt.datetime.now(ZoneInfo(\"Europe/Paris\")).strftime(\"%A %d %B %Y, %H:%M:%S\"))\n",
        "\n",
        "    dataframe = pd.read_csv(io.BytesIO(downloaded_blob), encoding=\"utf-8-sig\", encoding_errors=\"replace\") \n",
        "    first_line = dataframe.columns\n",
        "    first_value = first_line.values[0]\n",
        "    \n",
        "        # c'est MAAAAAL de faire comme ça !!!\n",
        "    first_value = first_value[2:]\n",
        "    dataframe.columns.values[0] = first_value\n",
        "\n",
        "except Exception as ex :\n",
        "    print( ex.__doc__ )\n",
        "\n",
        "    \n",
        "if dataframe :\n",
        "    print(dataframe.head())"
      ]
    },
    {
      "cell_type": "markdown",
      "metadata": {
        "nteract": {
          "transient": {
            "deleting": false
          }
        }
      },
      "source": [
        "Variante si le fichier est déjà dans ML Studio"
      ]
    },
    {
      "cell_type": "code",
      "execution_count": null,
      "metadata": {},
      "outputs": [],
      "source": []
    },
    {
      "cell_type": "code",
      "execution_count": 2,
      "metadata": {
        "gather": {
          "logged": 1745317326734
        }
      },
      "outputs": [],
      "source": [
        "from azureml.core import Workspace\n",
        "\n",
        "from azure.identity import DefaultAzureCredential\n",
        "from azure.ai.ml import MLClient\n",
        "from azure.ai.ml.entities import Data\n",
        "import pandas as pd\n",
        "import io\n",
        "import requests\n",
        "\n",
        "ws = Workspace.from_config()\n",
        "\n",
        "# Connexion + chargement du dataset v2\n",
        "ml_client = MLClient.from_config(credential=DefaultAzureCredential())\n",
        "\n",
        "# Lister toutes les versions du dataset \"allocine_films\"\n",
        "assets = ml_client.data.list(name=\"data_allocine_cleaned\")\n",
        "latest_asset = sorted(assets, key=lambda x: x.version, reverse=True)[0]\n",
        "\n",
        "print(f\"latest_asset : version = {latest_asset.version}\")\n",
        "\n",
        "data_asset  = ml_client.data.get(name=\"data_allocine_cleaned\", version=str(latest_asset.version))\n",
        "\n",
        "df = pd.read_csv(data_asset.path)\n",
        "df.head()"
      ]
    }
  ],
  "metadata": {
    "kernel_info": {
      "name": "python310-sdkv2"
    },
    "kernelspec": {
      "display_name": "Python 3.10 - SDK v2",
      "language": "python",
      "name": "python310-sdkv2"
    },
    "microsoft": {
      "host": {
        "AzureML": {
          "notebookHasBeenCompleted": true
        }
      },
      "ms_spell_check": {
        "ms_spell_check_language": "fr"
      }
    },
    "nteract": {
      "version": "nteract-front-end@1.0.0"
    }
  },
  "nbformat": 4,
  "nbformat_minor": 2
}
