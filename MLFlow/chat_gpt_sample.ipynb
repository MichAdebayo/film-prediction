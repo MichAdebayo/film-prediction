{
 "cells": [
  {
   "cell_type": "code",
   "execution_count": 40,
   "metadata": {},
   "outputs": [],
   "source": [
    "import mlflow\n",
    "import mlflow.xgboost\n",
    "import xgboost as xgb\n",
    "import numpy as np\n",
    "import pandas as pd\n",
    "from sklearn.model_selection import train_test_split\n",
    "from sklearn.metrics import root_mean_squared_error"
   ]
  },
  {
   "cell_type": "code",
   "execution_count": 41,
   "metadata": {},
   "outputs": [],
   "source": [
    "def clean_data(dataframe1 : pd.DataFrame) :\n",
    "    dataframe2 = dataframe1.copy()  \n",
    "    dataframe2[\"smoker\"] = dataframe2[\"smoker\"].apply( lambda x : 1 if x == \"yes\" else 0)\n",
    "    dataframe2[\"high_bmi\"] = dataframe2[\"bmi\"].apply( lambda x : 1 if x >30 else 0)\n",
    "    dataframe2[\"smoker_high_bmi\"] = dataframe2[\"bmi\"]*dataframe2[\"smoker\"]\n",
    "    dataframe2 = dataframe2.drop(\"children\", axis=1)\n",
    "    dataframe2 = dataframe2.drop(\"sex\", axis=1)\n",
    "    dataframe2 = dataframe2.drop(\"region\", axis=1)\n",
    "    return dataframe2\n",
    "\n",
    "df_initial = pd.read_csv(\"dataset.csv\", sep=\",\", index_col=False)\n",
    "df_modifie = clean_data(df_initial)"
   ]
  },
  {
   "cell_type": "code",
   "execution_count": 42,
   "metadata": {},
   "outputs": [],
   "source": [
    "y = df_modifie['charges']\n",
    "X = df_modifie.drop('charges', axis=1)"
   ]
  },
  {
   "cell_type": "code",
   "execution_count": 43,
   "metadata": {},
   "outputs": [],
   "source": [
    "# Séparation des données en train/test\n",
    "X_train, X_test, y_train, y_test = train_test_split(X, y, test_size=0.2, random_state=42)\n"
   ]
  },
  {
   "cell_type": "code",
   "execution_count": 45,
   "metadata": {},
   "outputs": [
    {
     "name": "stderr",
     "output_type": "stream",
     "text": [
      "/home/nicolascassonnet/Documents/WORK/film-prediction/MLFlow/.venv/lib/python3.12/site-packages/xgboost/sklearn.py:1028: UserWarning: [11:24:25] WARNING: /workspace/src/c_api/c_api.cc:1427: Saving model in the UBJSON format as default.  You can use file extension: `json`, `ubj` or `deprecated` to choose between formats.\n",
      "  self.get_booster().save_model(fname)\n",
      "\u001b[31m2025/04/02 11:24:28 WARNING mlflow.models.model: Model logged without a signature and input example. Please set `input_example` parameter when logging the model to auto infer the model signature.\u001b[0m\n"
     ]
    },
    {
     "name": "stdout",
     "output_type": "stream",
     "text": [
      "Modèle enregistré avec RMSE=4757.0407\n",
      "Lancer la commande suivante pour voir les résultats dans l'UI MLflow:\n",
      "mlflow ui --port 5000\n"
     ]
    }
   ],
   "source": [
    "# MLflow : Définir l'expérience\n",
    "mlflow.set_experiment(\"XGBoost_Regression_Exp\")\n",
    "\n",
    "# Lancer un run MLflow\n",
    "with mlflow.start_run():\n",
    "    # Initialiser et entraîner XGBRegressor\n",
    "    model = xgb.XGBRegressor(n_estimators=100, learning_rate=0.1, eval_metric=\"rmse\")\n",
    "    model.fit(X_train, y_train)\n",
    "\n",
    "    # Prédictions\n",
    "    y_pred = model.predict(X_test)\n",
    "\n",
    "    # Calculer l'erreur\n",
    "    rmse = root_mean_squared_error(y_test, y_pred)\n",
    "\n",
    "    # Enregistrer les hyperparamètres\n",
    "    mlflow.log_param(\"n_estimators\", 100)\n",
    "    mlflow.log_param(\"learning_rate\", 0.1)\n",
    "\n",
    "    # Enregistrer la métrique\n",
    "    mlflow.log_metric(\"rmse\", rmse)\n",
    "\n",
    "    # Enregistrer le modèle\n",
    "    mlflow.xgboost.log_model(model, \"xgboost_regressor\")\n",
    "\n",
    "    print(f\"Modèle enregistré avec RMSE={rmse:.4f}\")\n",
    "\n",
    "# Afficher l'interface MLflow\n",
    "print(\"Lancer la commande suivante pour voir les résultats dans l'UI MLflow:\")\n",
    "print(\"mlflow ui --port 5000\")"
   ]
  }
 ],
 "metadata": {
  "kernelspec": {
   "display_name": "Python 3",
   "language": "python",
   "name": "python3"
  },
  "language_info": {
   "codemirror_mode": {
    "name": "ipython",
    "version": 3
   },
   "file_extension": ".py",
   "mimetype": "text/x-python",
   "name": "python",
   "nbconvert_exporter": "python",
   "pygments_lexer": "ipython3",
   "version": "3.8.10"
  }
 },
 "nbformat": 4,
 "nbformat_minor": 2
}
